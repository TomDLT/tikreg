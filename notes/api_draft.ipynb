{
 "cells": [
  {
   "cell_type": "code",
   "execution_count": 1,
   "metadata": {
    "collapsed": false
   },
   "outputs": [
    {
     "name": "stdout",
     "output_type": "stream",
     "text": [
      "Populating the interactive namespace from numpy and matplotlib\n"
     ]
    }
   ],
   "source": [
    "%pylab inline"
   ]
  },
  {
   "cell_type": "code",
   "execution_count": null,
   "metadata": {
    "collapsed": true
   },
   "outputs": [],
   "source": [
    "# simple priors\n",
    "temporal_prior = tiko.priors.SphericalPrior()\n",
    "temporal_prior = tiko.priors.HRFPrior()\n",
    "temporal_prior = tiko.priors.SmoothPrior(order=2)\n",
    "\n",
    "# Mixture of gaussians\n",
    "temporal_prior = tiko.priors.SmoothPrior(order=2) + tiko.priors.SphericalPrior()\n",
    "\n",
    "# Wishart priors\n",
    "temporal_prior = tiko.priors.SmoothPrior(order=2).set_prior(tiko.priors.SphericalPrior())\n",
    "temporal_prior = tiko.priors.HRFPrior().set_prior(tiko.priors.SphericalPrior())\n",
    "\n",
    "# Exper Priors\n",
    "spatial_prior = tiko.priors.SphericalPrior()\n",
    "spatial_prior = tiko.priors.PriorFromPenalty(array)\n",
    "spatial_prior = tiko.priors.Prior(array)\n",
    "\n",
    "# Spatiotemporal prior\n",
    "prior = temporal_prior(ndelays=10)*spatial_prior \n",
    "prior = spatial_prior*temporal_prior(ndelays=10) # same\n",
    "\n",
    "prior = tiko.priors.SphericalPrior(ndelays=10)*tiko.priors.SphericalPrior() # ridge FIR\n",
    "prior = tiko.priors.SphericalPrior()*tiko.priors.SphericalPrior(ndelays=10) # ridge FIR\n",
    "\n",
    "# This should result in error. \n",
    "prior = tiko.priors.SphericalPrior()*tiko.priors.SphericalPrior()"
   ]
  },
  {
   "cell_type": "code",
   "execution_count": null,
   "metadata": {
    "collapsed": true
   },
   "outputs": [],
   "source": [
    "if 0:\n",
    "    # OBJECT ORIENTED \n",
    "\n",
    "    prior = tiko.priors.SphericalPrior()*tiko.priors.SphericalPrior(ndelays=10) # ridge FIR        \n",
    "    X = tiko.feature_space(rawA, rawB, rawC)\n",
    "    X.set_prior(prior)\n",
    "    \n",
    "    Xval = tiko.feature_space(Aval, Bval, Cval)\n",
    "    results = tiko.cvridge(X,Y, Xval, Yval)"
   ]
  },
  {
   "cell_type": "code",
   "execution_count": null,
   "metadata": {
    "collapsed": true
   },
   "outputs": [],
   "source": [
    "if 0:\n",
    "    ### OBJECT ORIENTED \n",
    "    # RIDGE REGRESSION EXAMPLE\n",
    "    \n",
    "    A = tiko.feature_space(rawA)\n",
    "    B = tiko.feature_space(rawB)\n",
    "    C = tiko.feature_space(rawC)\n",
    "\n",
    "    feature_prior = tiko.priors.SphericalPrior()\n",
    "    A.set_feature_prior(feature_prior) # same instance\n",
    "    B.set_feature_prior(feature_prior) # same instance\n",
    "    C.set_feature_prior(feature_prior) # same instance\n",
    "\n",
    "    temporal_prior = tiko.priors.SphericalPrior()\n",
    "    A.set_temporal_prior(temporal_prior) # same instance\n",
    "    B.set_temporal_prior(temporal_prior) # same instance\n",
    "    C.set_temporal_prior(temporal_prior) # same instance\n",
    "\n",
    "    X = tiko.feature_space(A,B,C)\n",
    "    Xval = tiko.feature_space(Aval, Bval, Cval)\n",
    "    \n",
    "    results = tiko.cvridge(X,Y, Xval, Yval)"
   ]
  },
  {
   "cell_type": "code",
   "execution_count": 6,
   "metadata": {
    "collapsed": false
   },
   "outputs": [],
   "source": [
    "if 0:\n",
    "    ### OBJECT ORIENTED \n",
    "    # Spatiotemporal prior for BANDED RIDGE EXAMPLE\n",
    "    \n",
    "    A = tiko.feature_space(A)\n",
    "    B = tiko.feature_space(B)\n",
    "    C = tiko.feature_space(C)\n",
    "\n",
    "    A.set_feature_prior(tiko.priors.SphericalPrior()) # different instance\n",
    "    B.set_feature_prior(tiko.priors.SphericalPrior()) # different instance\n",
    "    C.set_feature_prior(tiko.priors.SphericalPrior()) # different instance\n",
    "\n",
    "    temporal_prior = tiko.priors.SphericalPrior()\n",
    "    A.set_temporal_prior(temporal_prior) # same instance\n",
    "    B.set_temporal_prior(temporal_prior) # same instance\n",
    "    C.set_temporal_prior(temporal_prior) # same instance\n",
    "\n",
    "    X = tiko.feature_space(A,B,C)\n",
    "    Xval = tiko.feature_space(Aval, Bval, Cval)\n",
    "    \n",
    "    results = tiko.cvridge(X,Y, Xval, Yval)"
   ]
  },
  {
   "cell_type": "code",
   "execution_count": null,
   "metadata": {
    "collapsed": true
   },
   "outputs": [],
   "source": []
  },
  {
   "cell_type": "markdown",
   "metadata": {},
   "source": [
    "## assumptios\n",
    "\n",
    "``cvridge`` has default kwarg `ndelays=10`\n",
    "``cvridge`` can take list of ``feature_space`` instances, or list of arrays, or function and argument for loading\n",
    "\n",
    "```\n",
    "[(lambda x: load_my_data(x), '/path/to/one/feature_array),\n",
    " (lambda x: load_my_data(x), '/path/to/two/feature_array),\n",
    " (lambda x: load_my_data(x), '/path/to/tre/feature_array),\n",
    "\n",
    "```\n",
    "\n",
    "**CANNOT** have different temporal priors for different features\n",
    "\n",
    "**CAN** have complex mixture of gaussian temporal priors\n",
    "\n",
    "\n"
   ]
  },
  {
   "cell_type": "code",
   "execution_count": null,
   "metadata": {
    "collapsed": true
   },
   "outputs": [],
   "source": [
    "if 0:\n",
    "    tiko.cvridge([A,B,C], [Aval, Bval, Cval], \n",
    "                 feature_prior=tiko.priors.SphericalPrior(),   # ridge\n",
    "                 temporal_prior=tiko.priors.SphericalPrior())  # ridge"
   ]
  },
  {
   "cell_type": "code",
   "execution_count": 8,
   "metadata": {
    "collapsed": true
   },
   "outputs": [],
   "source": [
    "if 0:\n",
    "    tiko.cvridge([A,B,C], [Aval, Bval, Cval], \n",
    "                 spatial_prior=tiko.priors.SphericalPrior(), # ridge\n",
    "                 temporal_prior=tiko.priors.SmoothPrior(),   # temporal prior only    \n",
    "                 )"
   ]
  },
  {
   "cell_type": "code",
   "execution_count": 10,
   "metadata": {
    "collapsed": true
   },
   "outputs": [],
   "source": [
    "if 0:\n",
    "    temporal_prior = tiko.priors.SmoothPrior(order=2).set_prior(tiko.priors.SphericalPrior())\n",
    "    tiko.cvridge([A,B,C], [Aval, Bval, Cval], \n",
    "                 feature_prior=tiko.priors.SphericalPrior(), # ridge\n",
    "                 temporal_prior=temporal_prior,               # smooth temporal prior with wishart"
   ]
  },
  {
   "cell_type": "code",
   "execution_count": 9,
   "metadata": {
    "collapsed": true
   },
   "outputs": [],
   "source": [
    "if 0:\n",
    "    tiko.cvridge([A,B,C], [Aval, Bval, Cval], \n",
    "                 feature_prior=[tiko.priors.SphericalPrior(),\n",
    "                                tiko.priors.SphericalPrior(),\n",
    "                                tiko.priors.SphericalPrior()], # banded ridge\n",
    "                 temporal_prior=tiko.priors.SphericalPrior())   # FIR"
   ]
  },
  {
   "cell_type": "code",
   "execution_count": null,
   "metadata": {
    "collapsed": true
   },
   "outputs": [],
   "source": [
    "if 0:\n",
    "    spherical_prior = tiko.priors.SphericalPrior()\n",
    "    tiko.cvridge([A,B,C], [Aval, Bval, Cval], \n",
    "                 feature_prior=[tiko.priors.SphericalPrior(),\n",
    "                                tiko.priors.SphericalPrior(),\n",
    "                                tiko.priors.SphericalPrior(),], # banded ridge\n",
    "                 temporal_prior=tiko.priors.SmoothPrior())      # smooth FIR prior"
   ]
  },
  {
   "cell_type": "code",
   "execution_count": null,
   "metadata": {
    "collapsed": true
   },
   "outputs": [],
   "source": [
    "if 0:\n",
    "    tiko.cvridge([A,B,C], [Aval, Bval, Cval], \n",
    "                 feature_prior=[tiko.priors.SphericalPrior(),\n",
    "                                tiko.priors.SphericalPrior(),\n",
    "                                tiko.priors.SphericalPrior(),], # banded ridge\n",
    "                 temporal_prior=tiko.priors.SmoothPrior().set_prior(tiko.priors.SphericalPrior)) # Wishart"
   ]
  },
  {
   "cell_type": "code",
   "execution_count": null,
   "metadata": {
    "collapsed": true
   },
   "outputs": [],
   "source": [
    "if 0:\n",
    "    tiko.cvridge([A,B,C], [Aval, Bval, Cval], \n",
    "                 feature_prior=tiko.priors.Prior(array),       # custom prior\n",
    "                 temporal_prior=tiko.priors.SphericalPrior())  # ridge"
   ]
  },
  {
   "cell_type": "code",
   "execution_count": null,
   "metadata": {
    "collapsed": true
   },
   "outputs": [],
   "source": [
    "if 0:\n",
    "    tiko.cvridge([A,B,C], [Aval, Bval, Cval], \n",
    "                 feature_prior=tiko.priors.PriorFromPenalty(array),       # custom penalty\n",
    "                 temporal_prior=tiko.priors.SphericalPrior())             # ridge"
   ]
  },
  {
   "cell_type": "code",
   "execution_count": null,
   "metadata": {
    "collapsed": true
   },
   "outputs": [],
   "source": [
    "if 0:\n",
    "    # custom penalty, rank-deficient\n",
    "    custom_prior = tiko.priors.PriorFromPenalty(array).set_prior(tiko.priors.SphericalPrior())\n",
    "    tiko.cvridge([A,B,C], [Aval, Bval, Cval], \n",
    "                 feature_prior=custom_prior,                              # custom penalty, rank-deficient!!!\n",
    "                 temporal_prior=tiko.priors.SphericalPrior())             # ridge"
   ]
  },
  {
   "cell_type": "code",
   "execution_count": null,
   "metadata": {
    "collapsed": true
   },
   "outputs": [],
   "source": [
    "if 0:\n",
    "    # custom penalty, rank-deficient\n",
    "    custom_prior = tiko.priors.PriorFromPenalty(array).set_prior(tiko.priors.SphericalPrior())\n",
    "    temporal_prior = tiko.priors.SmoothPrior(order=2).set_prior(tiko.priors.SphericalPrior())\n",
    "    tiko.cvridge([A,B,C], [Aval, Bval, Cval], \n",
    "                 feature_prior=custom_prior,           # custom penalty, rank-deficient, so wishart!\n",
    "                 temporal_prior=temporal_prior)        # smooth temporal prior with wishart"
   ]
  },
  {
   "cell_type": "code",
   "execution_count": 11,
   "metadata": {
    "collapsed": true
   },
   "outputs": [],
   "source": [
    "if 0:\n",
    "    # custom penalty, rank-deficient\n",
    "    custom_prior_A = tiko.priors.Prior(arrayA),       # custom prior\n",
    "    custom_prior_B = tiko.priors.Prior(arrayB),       # custom prior\n",
    "    custom_prior_C = tiko.priors.Prior(arrayC),       # custom prior\n",
    "    temporal_prior = tiko.priors.SmoothPrior(order=2).set_prior(tiko.priors.SphericalPrior())\n",
    "    tiko.cvridge([A,B,C], [Aval, Bval, Cval], \n",
    "                 feature_prior=[custom_prior_A,           # custom prior\n",
    "                                custom_prior_B,           # custom prior\n",
    "                                custom_prior_C],          # custom prior\n",
    "                 temporal_prior=temporal_prior)           # smooth temporal prior with wishart"
   ]
  },
  {
   "cell_type": "code",
   "execution_count": null,
   "metadata": {
    "collapsed": true
   },
   "outputs": [],
   "source": []
  },
  {
   "cell_type": "code",
   "execution_count": null,
   "metadata": {
    "collapsed": true
   },
   "outputs": [],
   "source": []
  }
 ],
 "metadata": {
  "kernelspec": {
   "display_name": "Python 2",
   "language": "python",
   "name": "python2"
  },
  "language_info": {
   "codemirror_mode": {
    "name": "ipython",
    "version": 2
   },
   "file_extension": ".py",
   "mimetype": "text/x-python",
   "name": "python",
   "nbconvert_exporter": "python",
   "pygments_lexer": "ipython2",
   "version": "2.7.11+"
  }
 },
 "nbformat": 4,
 "nbformat_minor": 0
}
